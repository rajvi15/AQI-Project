{
  "nbformat": 4,
  "nbformat_minor": 0,
  "metadata": {
    "colab": {
      "provenance": []
    },
    "kernelspec": {
      "name": "python3",
      "display_name": "Python 3"
    },
    "language_info": {
      "name": "python"
    }
  },
  "cells": [
    {
      "cell_type": "code",
      "source": [
        "from google.colab import drive\n",
        "drive.mount('/content/drive/')"
      ],
      "metadata": {
        "colab": {
          "base_uri": "https://localhost:8080/"
        },
        "id": "qNIgyxmNn5rz",
        "outputId": "ca9d8e5c-7fcd-4cb2-8da8-023c1d99fbc2"
      },
      "execution_count": 18,
      "outputs": [
        {
          "output_type": "stream",
          "name": "stdout",
          "text": [
            "Drive already mounted at /content/drive/; to attempt to forcibly remount, call drive.mount(\"/content/drive/\", force_remount=True).\n"
          ]
        }
      ]
    },
    {
      "cell_type": "code",
      "source": [
        "import os\n",
        "os.chdir('/content/drive/My Drive/')"
      ],
      "metadata": {
        "id": "5vYuPxrGntej"
      },
      "execution_count": 19,
      "outputs": []
    },
    {
      "cell_type": "code",
      "execution_count": 20,
      "metadata": {
        "id": "KLLaupTGlvCl"
      },
      "outputs": [],
      "source": [
        "import pandas as pd\n",
        "import numpy as np\n",
        "\n",
        "from sklearn.model_selection import train_test_split\n",
        "from sklearn.preprocessing import StandardScaler"
      ]
    },
    {
      "cell_type": "code",
      "source": [
        "df = pd.read_csv('city_day.csv')\n",
        "print(df)"
      ],
      "metadata": {
        "colab": {
          "base_uri": "https://localhost:8080/"
        },
        "id": "U3Lz8-lZnhFe",
        "outputId": "366a9b8a-9a00-4a1e-f395-2dd6a64dfc83"
      },
      "execution_count": 21,
      "outputs": [
        {
          "output_type": "stream",
          "name": "stdout",
          "text": [
            "                City        Date  PM2.5   PM10     NO    NO2    NOx    NH3  \\\n",
            "0          Ahmedabad  2015-01-01    NaN    NaN   0.92  18.22  17.15    NaN   \n",
            "1          Ahmedabad  2015-01-02    NaN    NaN   0.97  15.69  16.46    NaN   \n",
            "2          Ahmedabad  2015-01-03    NaN    NaN  17.40  19.30  29.70    NaN   \n",
            "3          Ahmedabad  2015-01-04    NaN    NaN   1.70  18.48  17.97    NaN   \n",
            "4          Ahmedabad  2015-01-05    NaN    NaN  22.10  21.42  37.76    NaN   \n",
            "...              ...         ...    ...    ...    ...    ...    ...    ...   \n",
            "29526  Visakhapatnam  2020-06-27  15.02  50.94   7.68  25.06  19.54  12.47   \n",
            "29527  Visakhapatnam  2020-06-28  24.38  74.09   3.42  26.06  16.53  11.99   \n",
            "29528  Visakhapatnam  2020-06-29  22.91  65.73   3.45  29.53  18.33  10.71   \n",
            "29529  Visakhapatnam  2020-06-30  16.64  49.97   4.05  29.26  18.80  10.03   \n",
            "29530  Visakhapatnam  2020-07-01  15.00  66.00   0.40  26.85  14.05   5.20   \n",
            "\n",
            "          CO    SO2      O3  Benzene  Toluene  Xylene   AQI    AQI_Bucket  \n",
            "0       0.92  27.64  133.36     0.00     0.02    0.00   NaN           NaN  \n",
            "1       0.97  24.55   34.06     3.68     5.50    3.77   NaN           NaN  \n",
            "2      17.40  29.07   30.70     6.80    16.40    2.25   NaN           NaN  \n",
            "3       1.70  18.59   36.08     4.43    10.14    1.00   NaN           NaN  \n",
            "4      22.10  39.33   39.31     7.01    18.89    2.78   NaN           NaN  \n",
            "...      ...    ...     ...      ...      ...     ...   ...           ...  \n",
            "29526   0.47   8.55   23.30     2.24    12.07    0.73  41.0          Good  \n",
            "29527   0.52  12.72   30.14     0.74     2.21    0.38  70.0  Satisfactory  \n",
            "29528   0.48   8.42   30.96     0.01     0.01    0.00  68.0  Satisfactory  \n",
            "29529   0.52   9.84   28.30     0.00     0.00    0.00  54.0  Satisfactory  \n",
            "29530   0.59   2.10   17.05      NaN      NaN     NaN  50.0          Good  \n",
            "\n",
            "[29531 rows x 16 columns]\n"
          ]
        }
      ]
    },
    {
      "cell_type": "code",
      "source": [
        "df.info()"
      ],
      "metadata": {
        "colab": {
          "base_uri": "https://localhost:8080/"
        },
        "id": "beJAqAf_pIz3",
        "outputId": "22c26e1f-0eb3-4542-d625-fe5a8bb8dc0b"
      },
      "execution_count": 22,
      "outputs": [
        {
          "output_type": "stream",
          "name": "stdout",
          "text": [
            "<class 'pandas.core.frame.DataFrame'>\n",
            "RangeIndex: 29531 entries, 0 to 29530\n",
            "Data columns (total 16 columns):\n",
            " #   Column      Non-Null Count  Dtype  \n",
            "---  ------      --------------  -----  \n",
            " 0   City        29531 non-null  object \n",
            " 1   Date        29531 non-null  object \n",
            " 2   PM2.5       24933 non-null  float64\n",
            " 3   PM10        18391 non-null  float64\n",
            " 4   NO          25949 non-null  float64\n",
            " 5   NO2         25946 non-null  float64\n",
            " 6   NOx         25346 non-null  float64\n",
            " 7   NH3         19203 non-null  float64\n",
            " 8   CO          27472 non-null  float64\n",
            " 9   SO2         25677 non-null  float64\n",
            " 10  O3          25509 non-null  float64\n",
            " 11  Benzene     23908 non-null  float64\n",
            " 12  Toluene     21490 non-null  float64\n",
            " 13  Xylene      11422 non-null  float64\n",
            " 14  AQI         24850 non-null  float64\n",
            " 15  AQI_Bucket  24850 non-null  object \n",
            "dtypes: float64(13), object(3)\n",
            "memory usage: 3.6+ MB\n"
          ]
        }
      ]
    },
    {
      "cell_type": "code",
      "source": [
        "# 2. Count missing values in each column\n",
        "print(\"Missing Values Count:\")\n",
        "print(df.isnull().sum())"
      ],
      "metadata": {
        "colab": {
          "base_uri": "https://localhost:8080/"
        },
        "id": "RAlaWGMe1VS5",
        "outputId": "99a68436-8064-46dd-9a6d-05f8f0b9fd52"
      },
      "execution_count": 23,
      "outputs": [
        {
          "output_type": "stream",
          "name": "stdout",
          "text": [
            "Missing Values Count:\n",
            "City              0\n",
            "Date              0\n",
            "PM2.5          4598\n",
            "PM10          11140\n",
            "NO             3582\n",
            "NO2            3585\n",
            "NOx            4185\n",
            "NH3           10328\n",
            "CO             2059\n",
            "SO2            3854\n",
            "O3             4022\n",
            "Benzene        5623\n",
            "Toluene        8041\n",
            "Xylene        18109\n",
            "AQI            4681\n",
            "AQI_Bucket     4681\n",
            "dtype: int64\n"
          ]
        }
      ]
    },
    {
      "cell_type": "code",
      "source": [
        "# 1. Drop rows where the target variable 'PM2.5' is missing\n",
        "df.dropna(subset=['PM2.5'], inplace=True)\n",
        "print(df.isnull().sum())"
      ],
      "metadata": {
        "colab": {
          "base_uri": "https://localhost:8080/"
        },
        "id": "LvAa2VNGCioh",
        "outputId": "291495aa-f577-4521-85a5-9d898f202d35"
      },
      "execution_count": 24,
      "outputs": [
        {
          "output_type": "stream",
          "name": "stdout",
          "text": [
            "City              0\n",
            "Date              0\n",
            "PM2.5             0\n",
            "PM10           7301\n",
            "NO              351\n",
            "NO2             377\n",
            "NOx            1470\n",
            "NH3            6644\n",
            "CO              370\n",
            "SO2             505\n",
            "O3              752\n",
            "Benzene        3151\n",
            "Toluene        5555\n",
            "Xylene        15273\n",
            "AQI             761\n",
            "AQI_Bucket      761\n",
            "dtype: int64\n"
          ]
        }
      ]
    },
    {
      "cell_type": "code",
      "source": [
        "# 2. Impute missing values for other numerical columns using their median\n",
        "# Get a list of numerical columns (excluding the target and object types)\n",
        "numerical_cols = df.select_dtypes(include=np.number).columns.tolist()\n",
        "numerical_cols.remove('PM2.5')\n",
        "print(numerical_cols)"
      ],
      "metadata": {
        "colab": {
          "base_uri": "https://localhost:8080/"
        },
        "id": "j4xdqL8jDGDO",
        "outputId": "6fbedce6-87b0-4631-ef8f-887ee4c933ac"
      },
      "execution_count": 25,
      "outputs": [
        {
          "output_type": "stream",
          "name": "stdout",
          "text": [
            "['PM10', 'NO', 'NO2', 'NOx', 'NH3', 'CO', 'SO2', 'O3', 'Benzene', 'Toluene', 'Xylene', 'AQI']\n"
          ]
        }
      ]
    },
    {
      "cell_type": "code",
      "source": [
        "for col in numerical_cols:\n",
        "    median_val = df[col].median()\n",
        "    df[col].fillna(median_val, inplace=True)\n",
        "print(df.isnull().sum())"
      ],
      "metadata": {
        "colab": {
          "base_uri": "https://localhost:8080/"
        },
        "id": "Aa9hjtt6EYxP",
        "outputId": "f86ecf2e-e35b-43f3-eb04-35b657813a9e"
      },
      "execution_count": 26,
      "outputs": [
        {
          "output_type": "stream",
          "name": "stdout",
          "text": [
            "City            0\n",
            "Date            0\n",
            "PM2.5           0\n",
            "PM10            0\n",
            "NO              0\n",
            "NO2             0\n",
            "NOx             0\n",
            "NH3             0\n",
            "CO              0\n",
            "SO2             0\n",
            "O3              0\n",
            "Benzene         0\n",
            "Toluene         0\n",
            "Xylene          0\n",
            "AQI             0\n",
            "AQI_Bucket    761\n",
            "dtype: int64\n"
          ]
        },
        {
          "output_type": "stream",
          "name": "stderr",
          "text": [
            "/tmp/ipython-input-3052925097.py:3: FutureWarning: A value is trying to be set on a copy of a DataFrame or Series through chained assignment using an inplace method.\n",
            "The behavior will change in pandas 3.0. This inplace method will never work because the intermediate object on which we are setting values always behaves as a copy.\n",
            "\n",
            "For example, when doing 'df[col].method(value, inplace=True)', try using 'df.method({col: value}, inplace=True)' or df[col] = df[col].method(value) instead, to perform the operation inplace on the original object.\n",
            "\n",
            "\n",
            "  df[col].fillna(median_val, inplace=True)\n"
          ]
        }
      ]
    },
    {
      "cell_type": "code",
      "source": [
        "# Convert 'Date' column from object to datetime\n",
        "df['Date'] = pd.to_datetime(df['Date'])\n",
        "\n",
        "print(\"\\nData types after converting 'Date' column:\")\n",
        "df.info()"
      ],
      "metadata": {
        "colab": {
          "base_uri": "https://localhost:8080/"
        },
        "id": "0vzhWkL8EogI",
        "outputId": "1daf7256-4758-4ad2-fd19-36a4a18ab365"
      },
      "execution_count": 27,
      "outputs": [
        {
          "output_type": "stream",
          "name": "stdout",
          "text": [
            "\n",
            "Data types after converting 'Date' column:\n",
            "<class 'pandas.core.frame.DataFrame'>\n",
            "Index: 24933 entries, 27 to 29530\n",
            "Data columns (total 16 columns):\n",
            " #   Column      Non-Null Count  Dtype         \n",
            "---  ------      --------------  -----         \n",
            " 0   City        24933 non-null  object        \n",
            " 1   Date        24933 non-null  datetime64[ns]\n",
            " 2   PM2.5       24933 non-null  float64       \n",
            " 3   PM10        24933 non-null  float64       \n",
            " 4   NO          24933 non-null  float64       \n",
            " 5   NO2         24933 non-null  float64       \n",
            " 6   NOx         24933 non-null  float64       \n",
            " 7   NH3         24933 non-null  float64       \n",
            " 8   CO          24933 non-null  float64       \n",
            " 9   SO2         24933 non-null  float64       \n",
            " 10  O3          24933 non-null  float64       \n",
            " 11  Benzene     24933 non-null  float64       \n",
            " 12  Toluene     24933 non-null  float64       \n",
            " 13  Xylene      24933 non-null  float64       \n",
            " 14  AQI         24933 non-null  float64       \n",
            " 15  AQI_Bucket  24172 non-null  object        \n",
            "dtypes: datetime64[ns](1), float64(13), object(2)\n",
            "memory usage: 3.2+ MB\n"
          ]
        }
      ]
    },
    {
      "cell_type": "code",
      "source": [
        "# Extract features from the 'Date' column\n",
        "df['Year'] = df['Date'].dt.year\n",
        "df['Month'] = df['Date'].dt.month\n",
        "df['Day'] = df['Date'].dt.day"
      ],
      "metadata": {
        "id": "dHjoOgTSEt9F"
      },
      "execution_count": 28,
      "outputs": []
    },
    {
      "cell_type": "code",
      "source": [
        "df['City']"
      ],
      "metadata": {
        "colab": {
          "base_uri": "https://localhost:8080/",
          "height": 458
        },
        "id": "TEpov_AmuLDl",
        "outputId": "9c9c5ffc-7d3b-4b47-d894-b5b6e5143807"
      },
      "execution_count": 29,
      "outputs": [
        {
          "output_type": "execute_result",
          "data": {
            "text/plain": [
              "27           Ahmedabad\n",
              "28           Ahmedabad\n",
              "29           Ahmedabad\n",
              "30           Ahmedabad\n",
              "31           Ahmedabad\n",
              "             ...      \n",
              "29526    Visakhapatnam\n",
              "29527    Visakhapatnam\n",
              "29528    Visakhapatnam\n",
              "29529    Visakhapatnam\n",
              "29530    Visakhapatnam\n",
              "Name: City, Length: 24933, dtype: object"
            ],
            "text/html": [
              "<div>\n",
              "<style scoped>\n",
              "    .dataframe tbody tr th:only-of-type {\n",
              "        vertical-align: middle;\n",
              "    }\n",
              "\n",
              "    .dataframe tbody tr th {\n",
              "        vertical-align: top;\n",
              "    }\n",
              "\n",
              "    .dataframe thead th {\n",
              "        text-align: right;\n",
              "    }\n",
              "</style>\n",
              "<table border=\"1\" class=\"dataframe\">\n",
              "  <thead>\n",
              "    <tr style=\"text-align: right;\">\n",
              "      <th></th>\n",
              "      <th>City</th>\n",
              "    </tr>\n",
              "  </thead>\n",
              "  <tbody>\n",
              "    <tr>\n",
              "      <th>27</th>\n",
              "      <td>Ahmedabad</td>\n",
              "    </tr>\n",
              "    <tr>\n",
              "      <th>28</th>\n",
              "      <td>Ahmedabad</td>\n",
              "    </tr>\n",
              "    <tr>\n",
              "      <th>29</th>\n",
              "      <td>Ahmedabad</td>\n",
              "    </tr>\n",
              "    <tr>\n",
              "      <th>30</th>\n",
              "      <td>Ahmedabad</td>\n",
              "    </tr>\n",
              "    <tr>\n",
              "      <th>31</th>\n",
              "      <td>Ahmedabad</td>\n",
              "    </tr>\n",
              "    <tr>\n",
              "      <th>...</th>\n",
              "      <td>...</td>\n",
              "    </tr>\n",
              "    <tr>\n",
              "      <th>29526</th>\n",
              "      <td>Visakhapatnam</td>\n",
              "    </tr>\n",
              "    <tr>\n",
              "      <th>29527</th>\n",
              "      <td>Visakhapatnam</td>\n",
              "    </tr>\n",
              "    <tr>\n",
              "      <th>29528</th>\n",
              "      <td>Visakhapatnam</td>\n",
              "    </tr>\n",
              "    <tr>\n",
              "      <th>29529</th>\n",
              "      <td>Visakhapatnam</td>\n",
              "    </tr>\n",
              "    <tr>\n",
              "      <th>29530</th>\n",
              "      <td>Visakhapatnam</td>\n",
              "    </tr>\n",
              "  </tbody>\n",
              "</table>\n",
              "<p>24933 rows × 1 columns</p>\n",
              "</div><br><label><b>dtype:</b> object</label>"
            ]
          },
          "metadata": {},
          "execution_count": 29
        }
      ]
    },
    {
      "cell_type": "code",
      "source": [
        "# One-Hot Encode the 'City' column\n",
        "df = pd.get_dummies(df, columns=['City'], drop_first=True)"
      ],
      "metadata": {
        "id": "8fIK91BZFBg0"
      },
      "execution_count": 30,
      "outputs": []
    },
    {
      "cell_type": "code",
      "source": [
        "\n",
        "# Drop columns that are not needed or cause data leakage\n",
        "df.drop(['Date', 'AQI', 'AQI_Bucket'], axis=1, inplace=True)\n",
        "\n",
        "print(\"\\nDataFrame after Feature Engineering:\")\n",
        "print(df.head())"
      ],
      "metadata": {
        "colab": {
          "base_uri": "https://localhost:8080/"
        },
        "id": "DPqiGBt6uC-T",
        "outputId": "9631547e-beaf-4057-f68f-5f6e5f14cab2"
      },
      "execution_count": 31,
      "outputs": [
        {
          "output_type": "stream",
          "name": "stdout",
          "text": [
            "\n",
            "DataFrame after Feature Engineering:\n",
            "     PM2.5    PM10     NO    NO2    NOx    NH3     CO    SO2      O3  Benzene  \\\n",
            "27   73.24  95.595   5.72  21.11  25.84  16.53   5.72  36.52   62.42     0.03   \n",
            "28   83.13  95.595   6.93  28.71  33.72  16.53   6.93  49.52   59.76     0.02   \n",
            "29   79.84  95.595  13.85  28.68  41.08  16.53  13.85  48.49   97.07     0.04   \n",
            "30   94.52  95.595  24.39  32.66  52.61  16.53  24.39  67.39  111.33     0.24   \n",
            "31  135.99  95.595  43.48  42.08  84.57  16.53  43.48  75.23  102.70     0.40   \n",
            "\n",
            "    ...  City_Jorapokhar  City_Kochi  City_Kolkata  City_Lucknow  City_Mumbai  \\\n",
            "27  ...            False       False         False         False        False   \n",
            "28  ...            False       False         False         False        False   \n",
            "29  ...            False       False         False         False        False   \n",
            "30  ...            False       False         False         False        False   \n",
            "31  ...            False       False         False         False        False   \n",
            "\n",
            "    City_Patna  City_Shillong  City_Talcher  City_Thiruvananthapuram  \\\n",
            "27       False          False         False                    False   \n",
            "28       False          False         False                    False   \n",
            "29       False          False         False                    False   \n",
            "30       False          False         False                    False   \n",
            "31       False          False         False                    False   \n",
            "\n",
            "    City_Visakhapatnam  \n",
            "27               False  \n",
            "28               False  \n",
            "29               False  \n",
            "30               False  \n",
            "31               False  \n",
            "\n",
            "[5 rows x 40 columns]\n"
          ]
        }
      ]
    },
    {
      "cell_type": "code",
      "source": [
        "# Define your features (X) and target (y)\n",
        "X = df.drop('PM2.5', axis=1)\n",
        "y = df['PM2.5']"
      ],
      "metadata": {
        "id": "8uyCTTs_vJJi"
      },
      "execution_count": 32,
      "outputs": []
    },
    {
      "cell_type": "code",
      "source": [
        "# Split the data into training and testing sets (80% train, 20% test)\n",
        "X_train, X_test, y_train, y_test = train_test_split(X, y, test_size=0.2, random_state=42)\n",
        "\n",
        "# Scale the numerical features\n",
        "scaler = StandardScaler()\n",
        "\n",
        "# Fit the scaler on the training data and transform it\n",
        "X_train_scaled = scaler.fit_transform(X_train)"
      ],
      "metadata": {
        "id": "qS635l7JFpSo"
      },
      "execution_count": 33,
      "outputs": []
    },
    {
      "cell_type": "code",
      "source": [
        "# Transform the test data using the SAME scaler\n",
        "X_test_scaled = scaler.transform(X_test)\n",
        "\n",
        "print(f\"\\nTraining data shape: {X_train_scaled.shape}\")\n",
        "print(f\"Testing data shape: {X_test_scaled.shape}\")"
      ],
      "metadata": {
        "colab": {
          "base_uri": "https://localhost:8080/"
        },
        "id": "kHoisorZ05BA",
        "outputId": "66887b47-93f4-43bf-be7e-fe23438a2011"
      },
      "execution_count": 34,
      "outputs": [
        {
          "output_type": "stream",
          "name": "stdout",
          "text": [
            "\n",
            "Training data shape: (19946, 39)\n",
            "Testing data shape: (4987, 39)\n"
          ]
        }
      ]
    },
    {
      "cell_type": "code",
      "source": [
        "print(X_train_scaled)"
      ],
      "metadata": {
        "colab": {
          "base_uri": "https://localhost:8080/"
        },
        "id": "3hVM3DCfwbOA",
        "outputId": "d4efe5fd-c597-4ac4-effc-36aa11902dae"
      },
      "execution_count": 35,
      "outputs": [
        {
          "output_type": "stream",
          "name": "stdout",
          "text": [
            "[[-0.72498815 -0.68265466 -0.73996923 ... -0.17776592 -0.2129156\n",
            "  -0.22731347]\n",
            " [-0.20480822  2.65488744  3.67108744 ... -0.17776592 -0.2129156\n",
            "  -0.22731347]\n",
            " [ 0.69935018  1.00378218  1.58090758 ... -0.17776592 -0.2129156\n",
            "  -0.22731347]\n",
            " ...\n",
            " [-0.20480822  2.61007665  2.32249194 ... -0.17776592 -0.2129156\n",
            "  -0.22731347]\n",
            " [-1.00478539 -0.24531859 -0.35179297 ... -0.17776592 -0.2129156\n",
            "  -0.22731347]\n",
            " [-1.05324485 -0.4986719  -0.75224035 ... -0.17776592  4.69669666\n",
            "  -0.22731347]]\n"
          ]
        }
      ]
    },
    {
      "cell_type": "code",
      "source": [],
      "metadata": {
        "id": "LTIo8eaxDF2p"
      },
      "execution_count": 35,
      "outputs": []
    }
  ]
}